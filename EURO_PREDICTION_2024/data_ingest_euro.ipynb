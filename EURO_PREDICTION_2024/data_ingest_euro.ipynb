{
 "metadata": {
  "kernelspec": {
   "display_name": "Streamlit Notebook",
   "name": "streamlit"
  }
 },
 "nbformat_minor": 5,
 "nbformat": 4,
 "cells": [
  {
   "cell_type": "code",
   "id": "3775908f-ca36-4846-8f38-5adca39217f2",
   "metadata": {
    "language": "python",
    "name": "cell1"
   },
   "source": "from snowflake.snowpark.context import get_active_session\nsession = get_active_session()\n\n# add version tracking\napp_tag = {\n    \"origin\": \"sf_sit\",\n    \"name\": \"hol_sport_predict\",\n    \"version\": '{major: 1, minor: 0}'\n}\n\nsession.query_tag = app_tag\n",
   "execution_count": null,
   "outputs": []
  },
  {
   "cell_type": "code",
   "id": "8d50cbf4-0c8d-4950-86cb-114990437ac9",
   "metadata": {
    "language": "python",
    "name": "cell2",
    "collapsed": false
   },
   "source": "# Ingesting Data.\n# Using a nested SQL in a python script to ingest all dataset in one step.\n\n# Create File Format for generic csv\nsession.sql(f'''\n    CREATE OR REPLACE FILE FORMAT ff_generic_csv\n        TYPE = CSV\n        FIELD_DELIMITER = ','\n        FIELD_OPTIONALLY_ENCLOSED_BY='\"'\n        PARSE_HEADER = True\n        TRIM_SPACE = TRUE\n        NULL_IF = ('NULL', 'null')\n        ESCAPE_UNENCLOSED_FIELD= NONE\n        ERROR_ON_COLUMN_COUNT_MISMATCH=false\n        replace_invalid_characters=true\n        date_format=auto\n        time_format=auto\n        timestamp_format=auto;\n''').collect()\n\n# Create File Format for results.csv (loaded adding unique id extra columns)\nsession.sql('''\n    create or replace file format ff_results_csv\n    \ttype=csv\n        skip_header=1\n        field_delimiter=','\n        trim_space=true\n        field_optionally_enclosed_by='\"'\n        replace_invalid_characters=true\n        date_format=auto\n        time_format=auto\n        timestamp_format=auto; \n''').collect()\n\n# Iterate on files to load into tables\ntables = [\"fixture\", \"rankings\"]\nfor table in tables:\n    session.sql(f'''\n        CREATE OR REPLACE TABLE {table.upper()}\n        USING TEMPLATE (\n            SELECT ARRAY_AGG(object_construct(*))\n            FROM TABLE(\n                INFER_SCHEMA(\n                    LOCATION=>'@data/{table}.csv',\n                    FILE_FORMAT=>'ff_generic_csv',\n                    IGNORE_CASE => TRUE\n                )\n            )\n        );\n    ''').collect()\n    \n    session.sql(f'''\n        COPY INTO {table.upper()}\n        FROM '@data/{table}.csv'\n        FILE_FORMAT = ff_generic_csv\n        MATCH_BY_COLUMN_NAME = CASE_INSENSITIVE;\n    ''').collect()",
   "execution_count": null,
   "outputs": []
  },
  {
   "cell_type": "code",
   "id": "c695373e-ac74-4b62-a1f1-08206cbd5c81",
   "metadata": {
    "language": "sql",
    "name": "cell3",
    "codeCollapsed": false,
    "collapsed": false
   },
   "source": "create or replace table results as\n(\n    select \n        ROW_NUMBER() OVER (ORDER BY $1) AS id,\n        $1::date date, \n        $2 home_team, \n        $3 away_team, \n        $4::integer home_team_score, \n        $5::integer away_team_score, \n        $6 tournament, \n        $7 city, \n        $8 country,\n        (CASE WHEN $9 = 'TRUE' then 1 ELSE 0 END) neutral\n    from \n        @data/results.csv\n    (file_format => 'ff_results_csv')\n);\n     ",
   "execution_count": null,
   "outputs": []
  },
  {
   "cell_type": "code",
   "id": "9b42f6c9-d678-4d2f-b260-fce26b0d0fc3",
   "metadata": {
    "language": "sql",
    "name": "cell4",
    "collapsed": false
   },
   "outputs": [],
   "source": "-- let's check our newly created tables\n\nshow tables in schema public;",
   "execution_count": null
  },
  {
   "cell_type": "code",
   "id": "f2d0efc2-848e-4502-80aa-81e4a3d734cc",
   "metadata": {
    "language": "sql",
    "name": "cell5",
    "collapsed": false
   },
   "outputs": [],
   "source": "-- And now lets check England's 1966 world cup final victory is there...\nSELECT\n  *\nFROM\n  results\nWHERE\n  home_team = 'England' \n  AND away_team = 'Germany'\n  AND tournament = 'FIFA World Cup'\n  AND YEAR (date) = 1966;",
   "execution_count": null
  },
  {
   "cell_type": "code",
   "id": "3e5d7687-1ded-4a14-98bd-bafcfd9426ba",
   "metadata": {
    "language": "sql",
    "name": "cell6",
    "collapsed": false
   },
   "outputs": [],
   "source": "\n-- need to handle a country spelling difference for Turkey/Türkiye\n\nupdate rankings \n    set country_full = 'Türkiye'\n    where country_abrv = 'TUR';\n     ",
   "execution_count": null
  },
  {
   "cell_type": "code",
   "id": "bb3e9e20-7551-4c17-a044-ee9dbfbffc15",
   "metadata": {
    "language": "python",
    "name": "cell7"
   },
   "outputs": [],
   "source": "# We also loaded the fixture of Euro Cup 2024 - these are the matches we'll predict the results. \n# Starting from group stage, through the knockout stage, up to the final.\n\nsession.table('fixture').limit(51)",
   "execution_count": null
  }
 ]
}