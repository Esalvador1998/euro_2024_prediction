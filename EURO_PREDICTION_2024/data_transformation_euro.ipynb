{
 "metadata": {
  "kernelspec": {
   "display_name": "Streamlit Notebook",
   "name": "streamlit"
  }
 },
 "nbformat_minor": 5,
 "nbformat": 4,
 "cells": [
  {
   "cell_type": "code",
   "id": "3775908f-ca36-4846-8f38-5adca39217f2",
   "metadata": {
    "language": "python",
    "name": "cell1",
    "collapsed": false
   },
   "source": "import snowflake.snowpark\nfrom snowflake.snowpark.session import Session\nfrom snowflake.snowpark import Window\nfrom snowflake.snowpark import functions as F   \nfrom snowflake.snowpark.functions import udf, udtf\nfrom snowflake.snowpark.types import IntegerType, FloatType, StringType, StructField, StructType, DateType\n    \nimport pandas as pd\nimport numpy as np\n\nimport warnings\nwarnings.filterwarnings('ignore')\n",
   "execution_count": null,
   "outputs": []
  },
  {
   "cell_type": "code",
   "id": "8d50cbf4-0c8d-4950-86cb-114990437ac9",
   "metadata": {
    "language": "python",
    "name": "cell2",
    "collapsed": false
   },
   "source": "\nfrom snowflake.snowpark.context import get_active_session\nsession = get_active_session()\n\n# add version tracking\napp_tag = {\n    \"origin\": \"sf_sit\",\n    \"name\": \"hol_sport_predict\",\n    \"version\": '{major: 1, minor: 0}'\n}\n\nsession.query_tag = app_tag",
   "execution_count": null,
   "outputs": []
  },
  {
   "cell_type": "code",
   "id": "19006e4d-3f35-4797-8465-80a827f2da76",
   "metadata": {
    "language": "python",
    "name": "cell14"
   },
   "outputs": [],
   "source": "user_name = session.sql('select current_user()').collect()[0][0]\n",
   "execution_count": null
  },
  {
   "cell_type": "code",
   "id": "c695373e-ac74-4b62-a1f1-08206cbd5c81",
   "metadata": {
    "language": "python",
    "name": "cell3",
    "collapsed": false
   },
   "source": "# Create a DataFrame by filtering and sorting match history from a database table\n# Start by accessing the 'results' table from the session\n# \n# Filter the data to include only records with a date on or after January 1, 1994,\n# and exclude records where the 'tournament' column is 'Friendly'\n#\n# Finally, sort the resulting DataFrame by the 'id' column\n\ndf_match_history = (\n    session.table(\"results\")\n    .filter(\n        (F.col(\"date\") >= \"1994-01-01\") &\n        (F.col(\"tournament\") != \"Friendly\")\n    )\n    .sort(F.col(\"id\"))\n)\n\n# Create another DataFrame by sorting the 'rankings' table from the session\n# Sort the data by the 'rank_date' column in ascending order\n\ndf_rank = session.table(\"rankings\").sort(F.col(\"rank_date\"), ascending=True)",
   "execution_count": null,
   "outputs": []
  },
  {
   "cell_type": "code",
   "id": "4f4d514a-dcef-44a3-863c-00d3cb7f18a7",
   "metadata": {
    "language": "python",
    "name": "cell4",
    "collapsed": false
   },
   "outputs": [],
   "source": "df_match_history.limit(10)\n",
   "execution_count": null
  },
  {
   "cell_type": "code",
   "id": "be14bd3c-5610-4b6e-ab4f-11a53c6e0ff4",
   "metadata": {
    "language": "python",
    "name": "cell5",
    "collapsed": false
   },
   "outputs": [],
   "source": "\n# we join the history with rank - this will explode the table so we'll have all fixtures and all ranks \n# we'll want to get the fixture record with the most recent rank date relevant to the match date\ndf_match_rank_home = df_match_history.join(\n    df_rank,\n    ((df_rank['rank_date'] <= df_match_history['date']) &\n     (df_match_history['home_team'] == df_rank['country_full'])),\n    'left'\n).sort(['id', df_rank['rank_date'].desc()])\n\nwindow_spec = Window.partition_by('id').order_by(df_rank['rank_date'].desc())\ndf_match_rank_home = df_match_rank_home.select(\n    F.row_number().over(window_spec).alias('row_number'),\n    'id',\n    'rank',\n    'rank_date'\n).filter(F.col('row_number') == 1)\n\ndf_match_rank_home = df_match_rank_home.withColumnRenamed('id', 'home_id') \\\n.withColumnRenamed('rank', 'home_team_rank') \\\n.drop('row_number', 'rank_date')\n\n# and next we'll want to do the same thing for the away team as well...\ndf_match_rank_away = df_match_history.join(\n    df_rank,\n    (\n        (df_rank[\"rank_date\"] <= df_match_history[\"date\"])\n        & (df_match_history[\"away_team\"] == df_rank[\"country_full\"])\n    ),\n    \"left\",\n).sort([\"id\", F.desc(\"rank_date\")])\n\ndf_match_rank_away = (\n    df_match_rank_away.select(\n        F.row_number()\n        .over(Window.partitionBy(\"id\").orderBy(F.desc(\"rank_date\")))\n        .alias(\"row_number\"),\n        \"id\",\n        \"rank\",\n        \"rank_date\",\n    )\n    .filter(F.col(\"row_number\") == 1)\n    .drop(\"row_number\", \"rank_date\")\n)\n\n# Rename columns to reflect they are for the away team\ndf_match_rank_away = df_match_rank_away.withColumnRenamed(\n    \"id\", \"away_id\"\n).withColumnRenamed(\"rank\", \"away_team_rank\")\n\n# now we join these 2 dataframes together\ndf_match_rank = (\n    df_match_rank_home.join(\n        df_match_rank_away,\n        df_match_rank_home[\"home_id\"] == df_match_rank_away[\"away_id\"],\n        \"left\",\n    )\n    .select(\n        df_match_rank_home[\"home_id\"].alias(\"id\"),\n        df_match_rank_home[\"home_team_rank\"],\n        df_match_rank_away[\"away_team_rank\"]\n    )\n    .sort(\"id\")\n)\n\n# get rid of the rows with null values\ndf_match_rank = df_match_rank.filter(\n    df_match_rank.col('home_team_rank').is_not_null() & df_match_rank.col('away_team_rank').is_not_null()\n)\n\ndf_match_rank = df_match_rank.na.drop()\n\ndf_match_rank.limit(10)",
   "execution_count": null
  },
  {
   "cell_type": "code",
   "id": "4ecd66fb-0ed6-4f53-8724-e6ba5acb3480",
   "metadata": {
    "language": "python",
    "name": "cell6",
    "collapsed": false
   },
   "outputs": [],
   "source": "# UDTF to calculate the trailing performance of a team, with a given set of games\n# It will return:\n# - no. of wins\n# - no. of losses\n# - goal difference (goals scored - goals conceded)\n\noutput_struct = StructType([\n    StructField(\"ttl_wins\", FloatType()),\n    StructField(\"ttl_losses\", FloatType()),\n    StructField(\"ttl_draws\", FloatType()),\n    StructField(\"goal_diff\",FloatType())\n])\n\n@udtf(output_schema = output_struct,\n    input_types = [IntegerType(),DateType(), FloatType(), FloatType(), IntegerType()],\n    name = \"calc_performance\", \n    session = session,\n    is_permanent=True, \n    stage_location=\"@python_load\",\n    packages=[\"pandas\"], \n    replace=True)\n\nclass calc_ttl_performance:\n    def __init__(self):\n        self.fixture_id = []\n        self.date = []\n        self.goals_for = []\n        self.goals_against = []\n        self.is_home = []\n\n    def process(self, fixture_id, date, goals_for, goals_against, is_home):\n        self.fixture_id.append(fixture_id)\n        self.date.append(date)\n        self.goals_for.append(goals_for)\n        self.goals_against.append(goals_against)\n        self.is_home.append(is_home)\n    \n    def end_partition(self):\n        df = pd.DataFrame(zip(self.fixture_id, self.date, self.goals_for, self.goals_against, self.is_home), \n                            columns=['fixture_id', 'date', 'home_team_goals', 'away_team_goals', 'is_home'])\n\n        df['goals_scored'] = np.where(df['is_home'] == 1, df['home_team_goals'], df['away_team_goals'])  \n        \n        df['goals_conceded'] = np.where(df['is_home'] == 1, df['away_team_goals'], df['home_team_goals']) \n\n        df['wins'] = np.where((df['home_team_goals'] > df['away_team_goals']) & (df['is_home'] == 1), 1, \n                     np.where((df['home_team_goals'] < df['away_team_goals']) & (df['is_home'] != 1), 1, 0))  \n        \n        df['draws'] = np.where(df['home_team_goals'] == df['away_team_goals'], 1, 0)  \n\n        df['losses'] = np.where((df['home_team_goals'] < df['away_team_goals']) & (df['is_home'] == 1), 1, \n                       np.where((df['home_team_goals'] > df['away_team_goals']) & (df['is_home'] != 1), 1, 0))  \n\n\n        ttl_wins = np.sum(df['wins'])\n        ttl_losses = np.sum(df['losses'])\n        ttl_draws = np.sum(df['draws'])\n        goal_diff = np.sum(df['goals_scored']) - np.sum(df['goals_conceded'])\n\n        if np.isnan(goal_diff):\n            goal_diff = 0\n\n        yield (ttl_wins, ttl_losses, ttl_draws, goal_diff)",
   "execution_count": null
  },
  {
   "cell_type": "code",
   "id": "05a1753e-0083-42b0-8526-62687445e50e",
   "metadata": {
    "language": "python",
    "name": "cell7",
    "collapsed": false
   },
   "outputs": [],
   "source": "df_match_history = (\n    session.table(\"results\")\n    .filter(\n        (F.col(\"date\") >= \"1994-01-01\") &\n        (F.col(\"tournament\") != \"Friendly\")\n    )\n    .sort(F.col(\"id\"), ascending=True)\n)\n\ndf_history = (\n    session.table(\"results\")\n    .sort(F.col(\"id\"), ascending=True)\n)",
   "execution_count": null
  },
  {
   "cell_type": "code",
   "id": "77c46435-627c-4688-a227-c8d426665b57",
   "metadata": {
    "language": "python",
    "name": "cell8",
    "collapsed": false
   },
   "outputs": [],
   "source": "# Starting with the home team\n# For each match we want to get all the prior matches\n# Then in the next step we will limit that to the prior 5\n\ndf_home_team = (\n    df_match_history.join(\n        df_history,\n        (\n            (\n                (df_match_history[\"home_team\"] == df_history[\"home_team\"]) | (df_match_history[\"home_team\"] == df_history[\"away_team\"])\n            )\n            & (df_history[\"date\"] < df_match_history[\"date\"])\n        ),\n        \"left\",\n    )\n    .select(\n        df_match_history[\"id\"].alias(\"id\"),\n        df_match_history[\"date\"].alias(\"match_date\"),\n        df_match_history[\"home_team\"].alias(\"team_1\"),\n        df_match_history[\"away_team\"].alias(\"team_2\"),\n        df_match_history[\"neutral\"].alias(\"neutral\"),\n        df_history[\"home_team\"].alias(\"home_team\"),\n        df_history[\"away_team\"].alias(\"away_team\"),\n        df_history[\"date\"].cast(DateType()).alias(\"history_date\"),\n        df_history[\"home_team_score\"].alias(\"home_team_score\"),\n        df_history[\"away_team_score\"].alias(\"away_team_score\"),\n    )\n    .with_column(\n        \"is_home\",\n        F.when(df_match_history[\"home_team\"] == df_history[\"home_team\"], 1).otherwise(0),\n    )\n    .with_column(\n        \"row_number\",\n        F.row_number().over(Window.partition_by(\"id\").order_by(F.col(\"history_date\").desc())),\n    )\n    .filter(F.col(\"row_number\") <= 15)\n    .drop(\"row_number\")\n)\n\n# we use our UDTF to pass through the games partitioned by fixture id - there should be 5 games per partition\n\nperf_udtf = F.table_function(\"calc_performance\")\n\ndf_home_team = df_home_team.join_table_function(\n    perf_udtf(\n        df_home_team.col('id').cast(IntegerType()),\n        df_home_team.col('history_date').cast(DateType()),\n        df_home_team.col('home_team_score').cast(FloatType()),\n        df_home_team.col('away_team_score').cast(FloatType()),\n        df_home_team.col('is_home').cast(IntegerType())).over(partition_by='id',order_by=['history_date'])\n    )\\\n    .select(\n        F.col('id').alias('home_fixture_id'),\n        F.col('goal_diff').alias('home_goal_diff'),\n        F.col('ttl_wins').alias('home_ttl_wins'),\n        F.col('ttl_losses').alias('home_ttl_losses')\n    )\n\ndf_home_team.limit(10)",
   "execution_count": null
  },
  {
   "cell_type": "code",
   "id": "e63adb70-717e-4707-939f-3e04177c5299",
   "metadata": {
    "language": "python",
    "name": "cell9",
    "collapsed": false
   },
   "outputs": [],
   "source": "# Now the same for the away team\n# Again, we use our UDTF to pass through the games partitioned by fixture id - there should be 5 games per partition\ndf_away_team = (\n    df_match_history.join(\n        df_history,\n        (\n            (\n                (df_match_history[\"away_team\"] == df_history[\"home_team\"])\n                | (df_match_history[\"away_team\"] == df_history[\"away_team\"])\n            )\n            & (df_history[\"date\"] < df_match_history[\"date\"])\n        ),\n        \"left\",\n    )\n    .select(\n        df_match_history[\"id\"].alias(\"id\"),\n        df_match_history[\"date\"].alias(\"match_date\"),\n        df_match_history[\"home_team\"].alias(\"team_1\"),\n        df_match_history[\"away_team\"].alias(\"team_2\"),\n        df_match_history[\"neutral\"].alias(\"neutral\"),\n        df_history[\"home_team\"].alias(\"home_team\"),\n        df_history[\"away_team\"].alias(\"away_team\"),\n        df_history[\"date\"].cast(DateType()).alias(\"history_date\"),\n        df_history[\"home_team_score\"].alias(\"home_team_score\"),\n        df_history[\"away_team_score\"].alias(\"away_team_score\"),\n    )\n    .with_column(\n        \"is_home\",\n        F.when(df_match_history[\"away_team\"] == df_history[\"home_team\"], 1).otherwise(\n            0\n        ),\n    )\n    .with_column(\n        \"row_number\",\n        F.row_number().over(Window.partition_by(\"id\").order_by(F.col(\"history_date\").desc())),\n    )\n    .filter(F.col(\"row_number\") <= 15)\n    .drop(\"row_number\")\n)\n\nperf_udtf = F.table_function(\"calc_performance\")\n\ndf_away_team = df_away_team.join_table_function(\n    perf_udtf(\n        df_away_team.col('id').cast(IntegerType()),\n        df_away_team.col('history_date').cast(DateType()),\n        df_away_team.col('home_team_score').cast(FloatType()),\n        df_away_team.col('away_team_score').cast(FloatType()),\n        df_away_team.col('is_home').cast(IntegerType())).over(partition_by='id',order_by=['history_date'])\n    ) \\\n    .select(\n        F.col('id').alias('away_fixture_id'),\n        F.col('goal_diff').alias('away_goal_diff'),\n        F.col('ttl_wins').alias('away_ttl_wins'),\n        F.col('ttl_losses').alias('away_ttl_losses')    \n    )\n\ndf_away_team.limit(10)",
   "execution_count": null
  },
  {
   "cell_type": "code",
   "id": "f0aeba06-4690-47ff-b84c-cc55a6a19629",
   "metadata": {
    "language": "python",
    "name": "cell10",
    "collapsed": false
   },
   "outputs": [],
   "source": "# now we join the home and away performance into its own dataframe - these can be joined later on and used as features.\ndf_team_perf = df_home_team \\\n    .join(\n        df_away_team,\n        (\n            df_away_team.col('away_fixture_id') == df_home_team.col('home_fixture_id')\n        ),\n        'left'\n    ).drop(\n        'away_fixture_id'\n    ).rename(\n        F.col(\"home_fixture_id\"), 'id'\n    )\n\ndf_team_perf.limit(10)",
   "execution_count": null
  },
  {
   "cell_type": "code",
   "id": "019ae2a0-ac0b-4437-a594-ade96a23b88f",
   "metadata": {
    "language": "python",
    "name": "cell11",
    "collapsed": false
   },
   "outputs": [],
   "source": "# UDF to bin the outcome into:\n# home win = 1\n# away win or draw = 0\n\n@udf(name='convert_score',  \n     is_permanent=True,\n     replace=True,\n     session=session,\n     stage_location='python_load')\n\ndef convert_score(x:int, y:int) -> int: \n    if x > y : # home win\n        return 1\n\n    return 0\n     ",
   "execution_count": null
  },
  {
   "cell_type": "code",
   "id": "a370e76e-76ec-4f25-8faf-732cee7c2248",
   "metadata": {
    "language": "python",
    "name": "cell12",
    "collapsed": false
   },
   "outputs": [],
   "source": "df_match_history_full = session.table('results') \\\n    .filter(\n        (F.col(\"date\") >= \"1994-01-01\") &\n        (F.col(\"tournament\") != \"Friendly\")\n    ).sort(F.col('id'), ascending=False\n)\n     ",
   "execution_count": null
  },
  {
   "cell_type": "code",
   "id": "49ab2061-2683-473c-ad2f-52eb58b396a8",
   "metadata": {
    "language": "python",
    "name": "cell13",
    "collapsed": false
   },
   "outputs": [],
   "source": "df_match_history_full = session.table('results') \\\n    .filter(\n        (F.col(\"date\") >= \"1994-01-01\") &\n        (F.col(\"tournament\") != \"Friendly\")\n    ).sort(F.col('id'), ascending=False\n)\n\ndf_match_history_full = df_match_history_full.join(\n    df_match_rank,\n    (\n        df_match_history_full.col('id') == df_match_rank.col('id')\n    ),\n    'left'\n).join(\n    df_team_perf,\n    (\n        df_match_history_full.col('id') == df_team_perf.col('id')\n    ),\n    'left'\n).select(\n    df_match_history_full.col('id').alias('id'),\n    df_match_history_full.col('neutral'),\n    df_team_perf.col('home_goal_diff').alias('team_1_goal_diff'),\n    df_team_perf.col('home_ttl_wins').alias('team_1_ttl_wins'),\n    df_team_perf.col('home_ttl_losses').alias('team_1_ttl_losses'),\n    df_team_perf.col('away_goal_diff').alias('team_2_goal_diff'),\n    df_team_perf.col('away_ttl_wins').alias('team_2_ttl_wins'),\n    df_team_perf.col('away_ttl_losses').alias('team_2_ttl_losses'),\n    (df_match_rank.col('home_team_rank') - df_match_rank.col('away_team_rank')).cast(IntegerType()).alias('team_1_vs_team_2_rank'),\n    F.call_function(\n        'convert_score',\n        df_match_history_full.col('home_team_score').cast(IntegerType()),\n        df_match_history_full.col('away_team_score').cast(IntegerType())\n        ).alias('game_outcome')\n).sort(\n    F.col('id'), ascending=True\n).na.drop()\n\n# save a specific version for this user\ndf_match_history_full.write.save_as_table(f'final_data_{user_name}', mode='overwrite')\n\nsession.table(f'final_data_{user_name}').limit(10)\n     ",
   "execution_count": null
  }
 ]
}