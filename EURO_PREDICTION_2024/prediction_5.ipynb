{
 "metadata": {
  "kernelspec": {
   "display_name": "Streamlit Notebook",
   "name": "streamlit"
  }
 },
 "nbformat_minor": 5,
 "nbformat": 4,
 "cells": [
  {
   "cell_type": "code",
   "id": "3775908f-ca36-4846-8f38-5adca39217f2",
   "metadata": {
    "language": "python",
    "name": "cell1",
    "collapsed": false
   },
   "source": "import snowflake.snowpark\nfrom snowflake.snowpark.session import Session\nfrom snowflake.snowpark import Window\nfrom snowflake.snowpark import functions as F   \nfrom snowflake.snowpark.functions import udf, udtf\nfrom snowflake.snowpark.types import IntegerType, FloatType, StringType, StructField, StructType, DateType\nfrom snowflake.ml.registry import Registry\n    \nimport pandas as pd\nimport numpy as np\n\nimport streamlit as st\n\nimport warnings\nwarnings.filterwarnings('ignore')",
   "execution_count": null,
   "outputs": []
  },
  {
   "cell_type": "code",
   "id": "8d50cbf4-0c8d-4950-86cb-114990437ac9",
   "metadata": {
    "language": "python",
    "name": "cell2",
    "collapsed": false
   },
   "source": "from snowflake.snowpark.context import get_active_session\nsession = get_active_session()\n\n# add version tracking\napp_tag = {\n    \"origin\": \"sf_sit\",\n    \"name\": \"hol_sport_predict\",\n    \"version\": '{major: 1, minor: 0}'\n}\n\nsession.query_tag = app_tag\n     ",
   "execution_count": null,
   "outputs": []
  },
  {
   "cell_type": "code",
   "id": "c695373e-ac74-4b62-a1f1-08206cbd5c81",
   "metadata": {
    "language": "python",
    "name": "cell3",
    "collapsed": false
   },
   "source": "user_name = session.sql('select current_user()').collect()[0][0]\n",
   "execution_count": null,
   "outputs": []
  },
  {
   "cell_type": "code",
   "id": "e314b43a-dfe1-4243-89d3-c65925f39f5e",
   "metadata": {
    "language": "python",
    "name": "cell4",
    "collapsed": false
   },
   "outputs": [],
   "source": "\n# let's load our model from the registry into memory\n\nreg = Registry(session=session)\n\nmv = reg.get_model(\"EURO_24_GAME_PREDICT\").default",
   "execution_count": null
  },
  {
   "cell_type": "code",
   "id": "a25fa0d1-afdb-43b0-a1c6-c75257823cb3",
   "metadata": {
    "language": "python",
    "name": "cell5",
    "collapsed": false
   },
   "outputs": [],
   "source": "# adjustable threashold.\n#\n# setting at 0.5 introduces too many penalty shootouts\n\nwin_threshold = 0.45\n\n# we can also use streamlit controller for this (DON'T DO THIS YET)\n#win_threshold = st.slider(label='Threshold', min_value=0.0 ,max_value=1.0 ,value=0.45)",
   "execution_count": null
  },
  {
   "cell_type": "code",
   "id": "9940fd04-21fb-4bc7-af97-ef54204ddc96",
   "metadata": {
    "language": "python",
    "name": "cell6",
    "collapsed": false
   },
   "outputs": [],
   "source": "# lets make a copy of the fixtures, one with original data and then one we'll update as we go along\ndf_fixture_copy = session.table('fixture')\ndf_fixture_copy.write.save_as_table(f'fixture_{user_name}',mode='overwrite')\n\n# get list of fixtures for the groups stages\ndf_round_1 = (\n    session.table(f'fixture_{user_name}')\n    .select(\n        F.col('\"MATCH NUMBER\"').alias(\"id\"),\n        F.col('\"ROUND NUMBER\"').alias('round'),\n        F.to_date(F.col('\"DATE\"'), \"DD/MM/YYYY HH24:MI\").alias(\"date\"),\n        F.col('\"HOME TEAM\"').alias('team_1'),\n        F.col('\"AWAY TEAM\"').alias('team_2'),\n        F.col('\"GROUP\"').alias('group')\n    )\n)\n\ndf_round_1",
   "execution_count": null
  },
  {
   "cell_type": "code",
   "id": "a84acf72-a914-4571-9e15-b82177db7fb5",
   "metadata": {
    "language": "python",
    "name": "cell7",
    "collapsed": false
   },
   "outputs": [],
   "source": "# call the sproc that will run all our feature engineering code on the games we want to predict\n#\n# note - the 0 and 36 params refer to fixtures, we are only processing the feature engineering code for fixtures 0 through 36\n# but...because we predict for both games twice we end up with 72 rows.\n\nsession.call('prep_prediction_data',0,36)\n\ndf_pred = session.table('data_for_predictions').order_by('id')\n\nst.dataframe(data=df_pred)",
   "execution_count": null
  },
  {
   "cell_type": "code",
   "id": "1893a609-92ca-4597-99e2-6a02ac3d79d2",
   "metadata": {
    "language": "python",
    "name": "cell8"
   },
   "outputs": [],
   "source": "# run predictions on all the group stage games\n\npred_df = session.table('data_for_predictions').order_by('id')\nprediction = mv.run(pred_df, function_name=\"predict_proba\")\nprediction = prediction.with_column('output_game_outcome',F.iff(F.col('predict_proba_1') > win_threshold,1,0))\nprediction.write.save_as_table('predictions',mode='overwrite',table_type='temp')\n\nsession.table('predictions').select(\n    prediction.col('id'),\n    prediction.col('team_1'),\n    prediction.col('output_game_outcome')\n).order_by('id')",
   "execution_count": null
  },
  {
   "cell_type": "code",
   "id": "a2d6772b-40f3-4a23-b204-2faa67e54a07",
   "metadata": {
    "language": "sql",
    "name": "cell9"
   },
   "outputs": [],
   "source": "-- We can also run the prediction in SQL, where we can call our model using:\n-- MODEL_NAME!PREDICT_PROBA()\n\nSELECT \n    \"ID\", \n    \"TEAM_1\",  \n    CAST (\"TMP_RESULT\"['PREDICT_PROBA_0'] AS DOUBLE) AS \"PREDICT_PROBA_0\",  \n    CAST (\"TMP_RESULT\"['PREDICT_PROBA_1'] AS DOUBLE) AS \"PREDICT_PROBA_1\" \nFROM \n(\n    WITH SNOWPARK_ML_MODEL_INFERENCE_INPUT AS (\n        SELECT  \n            *  \n        FROM \n            data_for_predictions \n        ORDER BY \"ID\" ASC\n    ),\n    MODEL_VERSION_ALIAS AS MODEL EURO2024.PUBLIC.EURO_24_GAME_PREDICT VERSION V_1\n                \n    SELECT \n        *,\n        MODEL_VERSION_ALIAS!PREDICT_PROBA(\n            ID, \n            NEUTRAL, \n            TEAM_1_GOAL_DIFF, \n            TEAM_1_TTL_WINS, \n            TEAM_1_TTL_LOSSES, \n            TEAM_2_GOAL_DIFF, \n            TEAM_2_TTL_WINS, \n            TEAM_2_TTL_LOSSES, \n            TEAM_1_VS_TEAM_2_RANK\n        ) AS TMP_RESULT\n    FROM \n        SNOWPARK_ML_MODEL_INFERENCE_INPUT\n)",
   "execution_count": null
  },
  {
   "cell_type": "code",
   "id": "e0a0cb31-80b9-42d5-9c8a-9a4d50ac7ee0",
   "metadata": {
    "language": "python",
    "name": "cell10"
   },
   "outputs": [],
   "source": "# lets take the output of our predictions \n# \n# we restructure this into the groups sorted by points to determine the teams that go through\n# 1st & 2nd, along with the 4 teams who ranked the highest in 3rd place (confusing right?) \n\nsession.call('process_group_predictions')\n\n# we should have our final tables for completed group stages\n\nst.dataframe(data=session.table('results_group_stage').filter(F.col('group') == 'Group A').order_by(F.col('group'),F.col('rank').asc()))\nst.dataframe(data=session.table('results_group_stage').filter(F.col('group') == 'Group B').order_by(F.col('group'),F.col('rank').asc()))\nst.dataframe(data=session.table('results_group_stage').filter(F.col('group') == 'Group C').order_by(F.col('group'),F.col('rank').asc()))\nst.dataframe(data=session.table('results_group_stage').filter(F.col('group') == 'Group D').order_by(F.col('group'),F.col('rank').asc()))\nst.dataframe(data=session.table('results_group_stage').filter(F.col('group') == 'Group E').order_by(F.col('group'),F.col('rank').asc()))\nst.dataframe(data=session.table('results_group_stage').filter(F.col('group') == 'Group F').order_by(F.col('group'),F.col('rank').asc()))\n     ",
   "execution_count": null
  },
  {
   "cell_type": "code",
   "id": "b1148695-7443-4b86-854f-980b0558f770",
   "metadata": {
    "language": "python",
    "name": "cell11"
   },
   "outputs": [],
   "source": "# take the results of the group stage and insert the team names inmto the Round of 16 fixtures\n# now we see who will be playing each each in the next phase\n\nsession.call('calculate_r16_games')\ndf_results = session.table(f'fixture_{user_name}').filter(F.col('\"ROUND NUMBER\"') == 'Round of 16').order_by('\"MATCH NUMBER\"')\n\n# we can also use Streamlit to show snowpark dataframes (though this is only compatible for Snowflake Notebooks!)\n# otherwise use df_results.show(8)\n\ndf_results",
   "execution_count": null
  },
  {
   "cell_type": "code",
   "id": "b7b7e7a5-2010-47d3-b716-adf1697887a0",
   "metadata": {
    "language": "python",
    "name": "cell12"
   },
   "outputs": [],
   "source": "# run the feature engineering code\n# note the different fixture id parameters\n\nsession.call('prep_prediction_data',37,44)\nsession.table('data_for_predictions').order_by('id')",
   "execution_count": null
  },
  {
   "cell_type": "code",
   "id": "0abd3cc9-f97b-4c7a-a60b-2f6dcc109870",
   "metadata": {
    "language": "python",
    "name": "cell13"
   },
   "outputs": [],
   "source": "# run predictions on all the games\n\npred_df = session.table('data_for_predictions').order_by('id')\nprediction = mv.run(pred_df, function_name=\"predict_proba\")\nprediction = prediction.with_column('output_game_outcome',F.iff(F.col('predict_proba_1') > win_threshold,1,0))\nprediction.write.save_as_table('predictions',mode='overwrite',table_type='temp')\n\nsession.table('predictions').select(\n    prediction.col('id'),\n    prediction.col('team_1'),\n    prediction.col('output_game_outcome')\n).order_by('id')",
   "execution_count": null
  },
  {
   "cell_type": "code",
   "id": "df295296-d523-4c03-a6af-ccffe73de7c8",
   "metadata": {
    "language": "python",
    "name": "cell14"
   },
   "outputs": [],
   "source": "# lets process the predictions into a format where we can see the winners\n#\n# note - since this is a knockout stage, any draws will have to be resolved by a penalty shootout\n\nsession.call('process_knockout_predictions')\nsession.table('results_ko_stage').order_by('match_id')",
   "execution_count": null
  },
  {
   "cell_type": "code",
   "id": "367cd48e-ef84-4456-b3b0-17c5cc26ad95",
   "metadata": {
    "language": "python",
    "name": "cell15"
   },
   "outputs": [],
   "source": "# see the quarter final games as a result of the previous round\n\nsession.call('calc_knockout_games','Quarter Finals')\nsession.table(f'fixture_{user_name}').filter(F.col('\"ROUND NUMBER\"') == 'Quarter Finals').order_by('\"MATCH NUMBER\"')\n     ",
   "execution_count": null
  },
  {
   "cell_type": "code",
   "id": "d0b5ef6c-0c7a-4062-b794-b44d92dbe308",
   "metadata": {
    "language": "python",
    "name": "cell16"
   },
   "outputs": [],
   "source": "# feature engineering code\n\nsession.call('prep_prediction_data',45,48)\nsession.table('data_for_predictions').order_by('id')\n     ",
   "execution_count": null
  },
  {
   "cell_type": "code",
   "id": "44b53d68-3b87-4c32-8473-7abb7aa65a16",
   "metadata": {
    "language": "python",
    "name": "cell17"
   },
   "outputs": [],
   "source": "# run predictions on all the games\n\npred_df = session.table('data_for_predictions').order_by('id')\nprediction = mv.run(pred_df, function_name=\"predict_proba\")\nprediction = prediction.with_column('output_game_outcome',F.iff(F.col('predict_proba_1') > win_threshold,1,0))\nprediction.write.save_as_table('predictions',mode='overwrite',table_type='temp')\n\nsession.table('predictions').select(\n    prediction.col('id'),\n    prediction.col('team_1'),\n    prediction.col('output_game_outcome')\n).order_by('id')",
   "execution_count": null
  },
  {
   "cell_type": "code",
   "id": "4cdb8122-893a-4d90-a170-7f74712da62e",
   "metadata": {
    "language": "python",
    "name": "cell18"
   },
   "outputs": [],
   "source": "# process the predictions to see the winner \n\nsession.call('process_knockout_predictions')\nsession.table('results_ko_stage').order_by('match_id')",
   "execution_count": null
  },
  {
   "cell_type": "code",
   "id": "dca5cf41-4ecc-4231-9602-0b2fd875112b",
   "metadata": {
    "language": "python",
    "name": "cell19"
   },
   "outputs": [],
   "source": "# calculate the fixtures\n\nsession.call('calc_knockout_games','Semi Finals')\nsession.table(f'fixture_{user_name}').filter(F.col('\"ROUND NUMBER\"') == 'Semi Finals').order_by('\"MATCH NUMBER\"')\n     ",
   "execution_count": null
  },
  {
   "cell_type": "code",
   "id": "29a844a7-30b8-4423-b4d7-019f893bd9b9",
   "metadata": {
    "language": "python",
    "name": "cell20"
   },
   "outputs": [],
   "source": "# feature engineering code\n\nsession.call('prep_prediction_data',49,50)\nsession.table('data_for_predictions').order_by('id')",
   "execution_count": null
  },
  {
   "cell_type": "code",
   "id": "e90bffc4-3e62-4cff-bbe4-75900d090e75",
   "metadata": {
    "language": "python",
    "name": "cell21"
   },
   "outputs": [],
   "source": "# run predictions on all the games\n\npred_df = session.table('data_for_predictions').order_by('id')\nprediction = mv.run(pred_df, function_name=\"predict_proba\")\nprediction = prediction.with_column('output_game_outcome',F.iff(F.col('predict_proba_1') > win_threshold,1,0))\nprediction.write.save_as_table('predictions',mode='overwrite',table_type='temp')\n\nsession.table('predictions').select(\n    prediction.col('id'),\n    prediction.col('team_1'),\n    prediction.col('output_game_outcome')\n).order_by('id')",
   "execution_count": null
  },
  {
   "cell_type": "code",
   "id": "390d9e2c-cece-41da-926c-0d6d2bb1ad34",
   "metadata": {
    "language": "python",
    "name": "cell22"
   },
   "outputs": [],
   "source": "# process the predictions to see the winner\n\nsession.call('process_knockout_predictions')\nsession.table('results_ko_stage').order_by('match_id')",
   "execution_count": null
  },
  {
   "cell_type": "code",
   "id": "676d1e68-8a33-468e-a138-f2e33ba878b6",
   "metadata": {
    "language": "python",
    "name": "cell23"
   },
   "outputs": [],
   "source": "# calculate the final game\n\nsession.call('calc_knockout_games','Final')\nsession.table(f'fixture_{user_name}').filter(F.col('\"ROUND NUMBER\"') == 'Final').order_by('\"MATCH NUMBER\"')",
   "execution_count": null
  },
  {
   "cell_type": "code",
   "id": "a500dbe4-0560-4763-963d-af36342fe770",
   "metadata": {
    "language": "python",
    "name": "cell24"
   },
   "outputs": [],
   "source": "# feature engineering code\n\nsession.call('prep_prediction_data',51,51)\nresult_df = session.table('data_for_predictions').order_by('id')\n\nst.dataframe(data=result_df,use_container_width=True)",
   "execution_count": null
  },
  {
   "cell_type": "code",
   "id": "16042fad-d845-4813-9dfd-a560d4112cdd",
   "metadata": {
    "language": "python",
    "name": "cell25"
   },
   "outputs": [],
   "source": "# run predictions on the final \n\npred_df = session.table('data_for_predictions').order_by('id')\nprediction = mv.run(pred_df, function_name=\"predict\")\nprediction.write.save_as_table('predictions',mode='overwrite',table_type='temp')\n\nsession.call('process_knockout_predictions')\n\ndf = session.table('results_ko_stage').order_by('match_id')\nwinner = df.collect()[0]['WINNER']\n\nst.dataframe(data=session.table('results_ko_stage').order_by('match_id'))\nst.header(f\"{winner} wins the Euro 2024 Trophy!\")\n\nst.markdown(\"![Alt Text](https://media1.tenor.com/m/cnBtMqNDAYYAAAAd/soccer-celebration.gif)\")",
   "execution_count": null
  }
 ]
}